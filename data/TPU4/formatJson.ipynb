{
 "cells": [
  {
   "cell_type": "code",
   "execution_count": 3,
   "metadata": {},
   "outputs": [
    {
     "name": "stdout",
     "output_type": "stream",
     "text": [
      "6583\n",
      "14997\n",
      "0.4389544575581783\n"
     ]
    }
   ],
   "source": [
    "import json\n",
    "import re\n",
    "lg1=0\n",
    "lg2=0\n",
    "lg3=0\n",
    "\n",
    "with open('testoutput.json','r') as f:\n",
    "    a = json.load(f)\n",
    "    lg = len(a)\n",
    "    lg1 = 0\n",
    "    for id in a:\n",
    "        if a[id]['label'] == 'SUPPORTS':\n",
    "            lg1 += 1\n",
    "    print(lg1)\n",
    "    print(lg)\n",
    "    print(lg1/lg)\n",
    "#     ids = list(a.keys())\n",
    "#     ids.sort()\n",
    "#     print(len(ids))\n",
    "#     lg1 = len(a)\n",
    "#     lg2 = 0\n",
    "#     for id in a:\n",
    "#         leg = len(a[id]['evidence'])\n",
    "#         lg2 += leg\n",
    "#     print(lg2)\n",
    "    \n",
    "#     lg1=len(a)\n",
    "#     for id in a:  \n",
    "#         evidences = a[id]['evidence']\n",
    "#         if len(evidences) == 0 :\n",
    "#             lg3 += 1\n",
    "#         for evidence in evidences:\n",
    "#             tokens = evidence.strip().split()\n",
    "#             number = tokens[1]\n",
    "#             number_lg = len(tokens[0])+len(tokens[1])+2\n",
    "#             pure_evidence = evidence[:number_lg].strip()\n",
    "#             if re.match('[0-9]+',number) == None:\n",
    "#                 print(id)\n",
    "#                 print(evidence)\n",
    "#             if len(pure_evidence) ==0:\n",
    "#                 print(id)\n",
    "            \n",
    "    "
   ]
  },
  {
   "cell_type": "code",
   "execution_count": null,
   "metadata": {},
   "outputs": [],
   "source": []
  }
 ],
 "metadata": {
  "kernelspec": {
   "display_name": "Python 3",
   "language": "python",
   "name": "python3"
  },
  "language_info": {
   "codemirror_mode": {
    "name": "ipython",
    "version": 3
   },
   "file_extension": ".py",
   "mimetype": "text/x-python",
   "name": "python",
   "nbconvert_exporter": "python",
   "pygments_lexer": "ipython3",
   "version": "3.7.3"
  }
 },
 "nbformat": 4,
 "nbformat_minor": 2
}
