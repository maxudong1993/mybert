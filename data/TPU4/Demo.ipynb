{
 "cells": [
  {
   "cell_type": "code",
   "execution_count": 17,
   "metadata": {},
   "outputs": [
    {
     "name": "stdout",
     "output_type": "stream",
     "text": [
      "4.531972995524539\n",
      "13183\n",
      "0.120957524838301\n"
     ]
    }
   ],
   "source": [
    "import json\n",
    "lg1 = 0\n",
    "lg2 = 0\n",
    "lg3 = 0\n",
    "with open('recall-70-60/test_label.json','r') as f:\n",
    "    mydict = json.load(f)\n",
    "    lg3 = len(mydict)\n",
    "    for id in mydict:\n",
    "        lg1 += len(mydict[id]['evidence'])\n",
    "        if len(mydict[id]['evidence']) == 0:\n",
    "            lg2 += 1\n",
    "print(lg1/(lg3-lg2))\n",
    "print(lg3-lg2)\n",
    "print(lg2/lg3)"
   ]
  },
  {
   "cell_type": "code",
   "execution_count": 16,
   "metadata": {},
   "outputs": [
    {
     "name": "stdout",
     "output_type": "stream",
     "text": [
      "488\n",
      "59855\n"
     ]
    }
   ],
   "source": [
    "with open('recall-60/test_results.tsv','r') as f:\n",
    "    line = f.readline()\n",
    "    a = 0\n",
    "    lg = 0\n",
    "    while line:\n",
    "        lg += 1\n",
    "        tokens = line.strip().split()\n",
    "        values = [float(token) for token in tokens]\n",
    "        values.sort()\n",
    "        if values[2] - values[1] < 0.4:\n",
    "            a+=1\n",
    "        line = f.readline()\n",
    "    print(a)\n",
    "    print(lg)\n",
    "    "
   ]
  },
  {
   "cell_type": "code",
   "execution_count": 18,
   "metadata": {},
   "outputs": [
    {
     "data": {
      "text/plain": [
       "[1, 2, 3]"
      ]
     },
     "execution_count": 18,
     "metadata": {},
     "output_type": "execute_result"
    }
   ],
   "source": [
    "a=[2,3,1]\n",
    "a.sort()\n",
    "a"
   ]
  },
  {
   "cell_type": "code",
   "execution_count": null,
   "metadata": {},
   "outputs": [],
   "source": []
  }
 ],
 "metadata": {
  "kernelspec": {
   "display_name": "Python 3",
   "language": "python",
   "name": "python3"
  },
  "language_info": {
   "codemirror_mode": {
    "name": "ipython",
    "version": 3
   },
   "file_extension": ".py",
   "mimetype": "text/x-python",
   "name": "python",
   "nbconvert_exporter": "python",
   "pygments_lexer": "ipython3",
   "version": "3.7.3"
  }
 },
 "nbformat": 4,
 "nbformat_minor": 2
}
